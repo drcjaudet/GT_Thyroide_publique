{
  "nbformat": 4,
  "nbformat_minor": 0,
  "metadata": {
    "colab": {
      "provenance": [],
      "authorship_tag": "ABX9TyNwxmp0pL/ofqWzawFm7GtG",
      "include_colab_link": true
    },
    "kernelspec": {
      "name": "python3",
      "display_name": "Python 3"
    },
    "language_info": {
      "name": "python"
    }
  },
  "cells": [
    {
      "cell_type": "markdown",
      "metadata": {
        "id": "view-in-github",
        "colab_type": "text"
      },
      "source": [
        "<a href=\"https://colab.research.google.com/github/drcjaudet/GT_Thyroide_publique/blob/main/CrossData_Gthyroide.ipynb\" target=\"_parent\"><img src=\"https://colab.research.google.com/assets/colab-badge.svg\" alt=\"Open In Colab\"/></a>"
      ]
    },
    {
      "cell_type": "code",
      "source": [
        "!pip install pandas"
      ],
      "metadata": {
        "id": "t8UXm8Ebn1Wr",
        "colab": {
          "base_uri": "https://localhost:8080/"
        },
        "outputId": "dd248bb2-0d37-4252-d0c8-a67763f07718"
      },
      "execution_count": null,
      "outputs": [
        {
          "output_type": "stream",
          "name": "stdout",
          "text": [
            "Requirement already satisfied: pandas in /usr/local/lib/python3.7/dist-packages (1.3.5)\n",
            "Requirement already satisfied: pytz>=2017.3 in /usr/local/lib/python3.7/dist-packages (from pandas) (2018.9)\n",
            "Requirement already satisfied: python-dateutil>=2.7.3 in /usr/local/lib/python3.7/dist-packages (from pandas) (2.8.2)\n",
            "Requirement already satisfied: numpy>=1.17.3 in /usr/local/lib/python3.7/dist-packages (from pandas) (1.21.5)\n",
            "Requirement already satisfied: six>=1.5 in /usr/local/lib/python3.7/dist-packages (from python-dateutil>=2.7.3->pandas) (1.15.0)\n"
          ]
        }
      ]
    },
    {
      "cell_type": "code",
      "execution_count": null,
      "metadata": {
        "id": "Ia5M43VhFhiy"
      },
      "outputs": [],
      "source": [
        "import pandas"
      ]
    },
    {
      "cell_type": "code",
      "source": [
        "def ExtractTimeFrame(variable):\n",
        "    vec=[]\n",
        "    vec.append(variable.year) #[‘year’, ‘month’, ‘day’, ‘minute’, ‘second’, ‘ms’, ‘us’, ‘ns’])\n",
        "    vec.append(variable.month)\n",
        "    vec.append(variable.day)\n",
        "    #vec.append(variable.hour)\n",
        "    #vec.append(variable.minute)\n",
        "    #vec.append(variable.second)\n",
        "    return vec\n",
        "\n",
        "\n",
        "def ChangeTimeFormat(variable):\n",
        "    YYMMDD=(variable.year)*10000+variable.month*100+variable.day\n",
        "    return YYMMDD"
      ],
      "metadata": {
        "id": "EfwOQ5Oe2uBu"
      },
      "execution_count": null,
      "outputs": []
    },
    {
      "cell_type": "code",
      "source": [
        "#concatenationd des deux fichiers excel avant analyse stat:\n",
        "def ChangeTimeFormat(variable):\n",
        "    YYMMDD=(variable.year-2000)*10000+variable.month*100+variable.day\n",
        "    return YYMMDD\n",
        "\n",
        "\n",
        "def main(adresse_receuil,adresse_analyseImage,adresse_resultat):\n",
        "    f = open(adresse_resultat, 'w') #fichier de Sortie\n",
        "    #importation des données, un xls pour le receuil et un csv pour les données images\n",
        "    #df_recueil=pandas.read_excel(adresse_receuil,sheet_name=\"RECUEIL\", header=0) ### problème avec xlsx non supporté\n",
        "    df_recueil=pandas.read_csv(adresse_receuil,header=0,sep=\";\",encoding = \"ISO-8859-1\") ### problème avec xlsx non supporté\n",
        "    #df_recueil=pandas.read_csv(adresse_receuil, header=0)\n",
        "    df_analyseImage=pandas.read_csv(adresse_analyseImage, header=0,sep=\";\")\n",
        "    #mélange des deux tableau en triant à partir de la colone de nom, option pour vérifier si une seul correspondance\n",
        "    tableau_donnee = pandas.merge(df_recueil, df_analyseImage, on=\"Nom_Fichier_DICOM\",validate=\"many_to_one\")#,validate=\"one_to_one\") #option validate to ensure one Nom_Fichier_DICOM\n",
        "    #calul de la sensibilité\n",
        "    Sensibilite_cols = [col for col in tableau_donnee.columns if '(Cps/(MBq.s))' in col] #'sensibilite' in col]\n",
        "    Coups_cols = [col for col in tableau_donnee.columns if 'Coups Totaux(kCps)_F' in col]\n",
        "    for i in range(len(Sensibilite_cols)-1):\n",
        "      tableau_donnee[Sensibilite_cols[i]]=tableau_donnee[Coups_cols[i]]*1000/(tableau_donnee['A_acq_corr']*tableau_donnee['ActualFrameDuration (s)'])\n",
        "    #calcul pour SAM\n",
        "    tableau_donnee.iloc[:,-1]=tableau_donnee.iloc[:,-2]*1000/(tableau_donnee['A_acq_corr']*tableau_donnee['ActualFrameDuration (s)'])\n",
        "    #VERIFICATION DES dates :\n",
        "    #tableau_donnee[\"Verif_date\"]=(tableau_donnee[\"AcquisitionDate (YYMMDD)\"]==tableau_donnee[\"Heure_acq\"].apply(ChangeTimeFormat))\n",
        "    #sauvegarde des données dans un csv\n",
        "    tableau_donnee.to_csv(adresse_resultat,header=True,sep=';')\n",
        "\n",
        "\n",
        "\n"
      ],
      "metadata": {
        "id": "UVWj4DxSBuvv"
      },
      "execution_count": null,
      "outputs": []
    },
    {
      "cell_type": "code",
      "source": [
        "adresse_receuil=\"/content/Recueil_global_V12_nettoyage2.csv\"\n",
        "adresse_analyseImage=\"/content/ExtractionImageData_23032022.csv\"\n",
        "adresse_resultat=\"/content/mergeTab.csv\"\n",
        "#####################################\n",
        "main(adresse_receuil,adresse_analyseImage,adresse_resultat)\n",
        "\n"
      ],
      "metadata": {
        "id": "LdHex0d2Fmka"
      },
      "execution_count": null,
      "outputs": []
    }
  ]
}